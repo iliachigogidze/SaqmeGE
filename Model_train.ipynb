{
 "cells": [
  {
   "cell_type": "markdown",
   "metadata": {},
   "source": [
    "IMPORT LIBRARIES"
   ]
  },
  {
   "cell_type": "code",
   "execution_count": 1,
   "metadata": {},
   "outputs": [
    {
     "name": "stderr",
     "output_type": "stream",
     "text": [
      "C:\\Users\\iliac\\Anaconda3\\lib\\site-packages\\h5py\\__init__.py:36: FutureWarning: Conversion of the second argument of issubdtype from `float` to `np.floating` is deprecated. In future, it will be treated as `np.float64 == np.dtype(float).type`.\n",
      "  from ._conv import register_converters as _register_converters\n",
      "Using TensorFlow backend.\n",
      "C:\\Users\\iliac\\Anaconda3\\lib\\site-packages\\sklearn\\cross_validation.py:41: DeprecationWarning: This module was deprecated in version 0.18 in favor of the model_selection module into which all the refactored classes and functions are moved. Also note that the interface of the new CV iterators are different from that of this module. This module will be removed in 0.20.\n",
      "  \"This module will be removed in 0.20.\", DeprecationWarning)\n"
     ]
    }
   ],
   "source": [
    "import numpy\n",
    "import pandas as pd\n",
    "from keras.models import Sequential\n",
    "from keras.layers import Dense\n",
    "from keras.optimizers import SGD, Adam\n",
    "#from keras.wrappers.scikit_learn import KerasRegressor\n",
    "#from sklearn.model_selection import cross_val_score\n",
    "#from sklearn.model_selection import KFold\n",
    "from sklearn.preprocessing import StandardScaler, MinMaxScaler\n",
    "#from sklearn.pipeline import Pipeline\n",
    "from sklearn.cross_validation import train_test_split\n"
   ]
  },
  {
   "cell_type": "code",
   "execution_count": null,
   "metadata": {},
   "outputs": [],
   "source": []
  },
  {
   "cell_type": "markdown",
   "metadata": {},
   "source": [
    "# IMPORT DATA"
   ]
  },
  {
   "cell_type": "code",
   "execution_count": 2,
   "metadata": {},
   "outputs": [],
   "source": [
    "data = pd.read_excel(\"C:\\\\Users\\\\iliac\\\\Documents\\\\Machine Learning\\\\New Challenge\\\\SaqmeBot.xlsx\")"
   ]
  },
  {
   "cell_type": "markdown",
   "metadata": {},
   "source": [
    "SET VARIABLES"
   ]
  },
  {
   "cell_type": "code",
   "execution_count": 4,
   "metadata": {},
   "outputs": [],
   "source": [
    "columns = ['District','Area','Rooms','Floor','Number_of_floors','Condition','Status','Project','Heat','Gas','Storage','Cellar','Balcony','Garage','gancxadeba','Price']"
   ]
  },
  {
   "cell_type": "code",
   "execution_count": 5,
   "metadata": {},
   "outputs": [],
   "source": [
    "train_columns = ['District','Area','Rooms','Floor','Number_of_floors','Condition','Status','Project','Heat','Gas','Storage','Cellar','Balcony','Garage','gancxadeba']"
   ]
  },
  {
   "cell_type": "code",
   "execution_count": 6,
   "metadata": {},
   "outputs": [],
   "source": [
    "amenities = ['Heat','Gas','Storage','Cellar','Balcony','Garage']"
   ]
  },
  {
   "cell_type": "code",
   "execution_count": 7,
   "metadata": {},
   "outputs": [],
   "source": [
    "cat =  ['District','Condition','Status','Project'] "
   ]
  },
  {
   "cell_type": "code",
   "execution_count": 8,
   "metadata": {},
   "outputs": [],
   "source": [
    "num = ['Area','Rooms','Floor','Number_of_floors']"
   ]
  },
  {
   "cell_type": "markdown",
   "metadata": {},
   "source": [
    "TRANSLATE COLUMN NAMES"
   ]
  },
  {
   "cell_type": "code",
   "execution_count": 9,
   "metadata": {},
   "outputs": [],
   "source": [
    "data.columns = columns"
   ]
  },
  {
   "cell_type": "markdown",
   "metadata": {},
   "source": [
    "## Preprocessing"
   ]
  },
  {
   "cell_type": "markdown",
   "metadata": {},
   "source": [
    "Change Nan to 0 in Amenities"
   ]
  },
  {
   "cell_type": "code",
   "execution_count": 10,
   "metadata": {},
   "outputs": [],
   "source": [
    "data[amenities] = data[amenities].fillna(0)"
   ]
  },
  {
   "cell_type": "markdown",
   "metadata": {},
   "source": [
    "Drop other Nan-s"
   ]
  },
  {
   "cell_type": "code",
   "execution_count": 11,
   "metadata": {},
   "outputs": [],
   "source": [
    "data.dropna(inplace=True)"
   ]
  },
  {
   "cell_type": "markdown",
   "metadata": {},
   "source": [
    "Drop 'gancxadebebi'. We don't need that feature"
   ]
  },
  {
   "cell_type": "code",
   "execution_count": 12,
   "metadata": {},
   "outputs": [],
   "source": [
    "data.drop('gancxadeba',axis=1,inplace=True)"
   ]
  },
  {
   "cell_type": "markdown",
   "metadata": {},
   "source": [
    "Remove Fake data"
   ]
  },
  {
   "cell_type": "code",
   "execution_count": 13,
   "metadata": {},
   "outputs": [],
   "source": [
    "data = data[(data['Area']>10) & (data['Area']<300)]  # Keep 'Area' from 10 to 300\n",
    "data = data[(data['Floor']>1) & (data['Floor']<30)] # Keep 'Floor' from 1 to 30\n",
    "data = data[(data['Number_of_floors']>1) & (data['Number_of_floors']<30)] # Keep 'Number_of_floors' from 1 to 30\n",
    "data = data[(data['Price']>5000) & (data['Price']<2000000)] # Keep 'Price' from 5,000 to 2,000,000"
   ]
  },
  {
   "cell_type": "markdown",
   "metadata": {},
   "source": [
    "Drop Duplicate Samples"
   ]
  },
  {
   "cell_type": "code",
   "execution_count": 14,
   "metadata": {},
   "outputs": [],
   "source": [
    "data.drop_duplicates(inplace=True)"
   ]
  },
  {
   "cell_type": "markdown",
   "metadata": {},
   "source": [
    "Create Dummies for Categorical Variables and drop first column for every feature"
   ]
  },
  {
   "cell_type": "code",
   "execution_count": 15,
   "metadata": {},
   "outputs": [],
   "source": [
    "data = pd.get_dummies(data,columns=cat, drop_first=True)"
   ]
  },
  {
   "cell_type": "markdown",
   "metadata": {},
   "source": [
    "MinMaxScale on Num Data"
   ]
  },
  {
   "cell_type": "code",
   "execution_count": 16,
   "metadata": {},
   "outputs": [],
   "source": [
    "scaler = MinMaxScaler(feature_range=(0,1))\n",
    "num = ['Area','Rooms','Floor','Number_of_floors']"
   ]
  },
  {
   "cell_type": "code",
   "execution_count": 17,
   "metadata": {},
   "outputs": [],
   "source": [
    "scaled_features = scaler.fit_transform((data[num])) #Scaled features in 'num' columns"
   ]
  },
  {
   "cell_type": "code",
   "execution_count": 18,
   "metadata": {},
   "outputs": [],
   "source": [
    "new = pd.DataFrame(scaled_features,columns=num) #Create 'new' DataFrame from scaled_features"
   ]
  },
  {
   "cell_type": "code",
   "execution_count": 19,
   "metadata": {},
   "outputs": [],
   "source": [
    "data.reset_index(drop=True,inplace=True) #We should reset indexing in Data to merge it with 'new' Dataframe because their indexing are off (because of dropping rows)"
   ]
  },
  {
   "cell_type": "code",
   "execution_count": 20,
   "metadata": {},
   "outputs": [],
   "source": [
    "data[num] = new[num] #Change 'num' columns in data with 'new' Dataframe"
   ]
  },
  {
   "cell_type": "code",
   "execution_count": 21,
   "metadata": {},
   "outputs": [
    {
     "name": "stdout",
     "output_type": "stream",
     "text": [
      "(37963, 4)\n",
      "<class 'pandas.core.frame.DataFrame'>\n",
      "(37963, 84)\n",
      "<class 'pandas.core.frame.DataFrame'>\n",
      "(37963, 4)\n"
     ]
    }
   ],
   "source": [
    "print(new.shape)\n",
    "print(type(new))\n",
    "print(data.shape)\n",
    "print(type(data))\n",
    "print(data[num].shape)"
   ]
  },
  {
   "cell_type": "markdown",
   "metadata": {},
   "source": [
    "Create Label"
   ]
  },
  {
   "cell_type": "code",
   "execution_count": 22,
   "metadata": {},
   "outputs": [],
   "source": [
    "y = data.pop('Price') #Price is our label"
   ]
  },
  {
   "cell_type": "code",
   "execution_count": 23,
   "metadata": {},
   "outputs": [
    {
     "data": {
      "text/plain": [
       "pandas.core.frame.DataFrame"
      ]
     },
     "execution_count": 23,
     "metadata": {},
     "output_type": "execute_result"
    }
   ],
   "source": [
    "type(data)"
   ]
  },
  {
   "cell_type": "markdown",
   "metadata": {},
   "source": [
    "Split train test"
   ]
  },
  {
   "cell_type": "code",
   "execution_count": 24,
   "metadata": {},
   "outputs": [],
   "source": [
    "X_train, X_test, y_train, y_test = train_test_split(data,y,test_size = 0.1,random_state=42)"
   ]
  },
  {
   "cell_type": "code",
   "execution_count": 25,
   "metadata": {},
   "outputs": [
    {
     "name": "stdout",
     "output_type": "stream",
     "text": [
      "(34166, 83)\n",
      "<class 'pandas.core.frame.DataFrame'>\n",
      "(3797, 83)\n",
      "<class 'pandas.core.frame.DataFrame'>\n",
      "(34166,)\n",
      "<class 'pandas.core.series.Series'>\n",
      "(3797,)\n",
      "<class 'pandas.core.series.Series'>\n"
     ]
    }
   ],
   "source": [
    "print(X_train.shape)\n",
    "print(type(X_train))\n",
    "\n",
    "print(X_test.shape)\n",
    "print(type(X_test))\n",
    "\n",
    "print(y_train.shape)\n",
    "print(type(y_train))\n",
    "\n",
    "print(y_test.shape)\n",
    "print(type(y_test))"
   ]
  },
  {
   "cell_type": "code",
   "execution_count": 32,
   "metadata": {},
   "outputs": [],
   "source": [
    "X_train = X_train.values\n",
    "y_train = y_train.values"
   ]
  },
  {
   "cell_type": "code",
   "execution_count": 33,
   "metadata": {},
   "outputs": [
    {
     "data": {
      "text/plain": [
       "(34166, 83)"
      ]
     },
     "execution_count": 33,
     "metadata": {},
     "output_type": "execute_result"
    }
   ],
   "source": [
    "X_train.shape"
   ]
  },
  {
   "cell_type": "markdown",
   "metadata": {},
   "source": [
    "## Neural Network"
   ]
  },
  {
   "cell_type": "code",
   "execution_count": 45,
   "metadata": {},
   "outputs": [],
   "source": [
    "model = Sequential()\n",
    "model.add(Dense(300, input_shape=(83,),activation='relu'))\n",
    "model.add(Dense(200, activation='relu'))\n",
    "model.add(Dense(100, activation='relu'))\n",
    "model.add(Dense(1))"
   ]
  },
  {
   "cell_type": "code",
   "execution_count": 46,
   "metadata": {},
   "outputs": [],
   "source": [
    "model.compile(loss='mse',optimizer='rmsprop',metrics=['mse','mae','mape','cosine'])"
   ]
  },
  {
   "cell_type": "code",
   "execution_count": 36,
   "metadata": {},
   "outputs": [
    {
     "data": {
      "text/plain": [
       "numpy.ndarray"
      ]
     },
     "execution_count": 36,
     "metadata": {},
     "output_type": "execute_result"
    }
   ],
   "source": [
    "type(X_train)"
   ]
  },
  {
   "cell_type": "code",
   "execution_count": 47,
   "metadata": {},
   "outputs": [
    {
     "name": "stdout",
     "output_type": "stream",
     "text": [
      "Epoch 1/100\n",
      " - 9s - loss: 6457234940.5004 - mean_squared_error: 6457234940.5004 - mean_absolute_error: 42792.6959 - mean_absolute_percentage_error: 37.6420 - cosine_proximity: -9.9988e-01\n",
      "Epoch 2/100\n",
      " - 8s - loss: 2934132962.2723 - mean_squared_error: 2934132962.2723 - mean_absolute_error: 23883.7091 - mean_absolute_percentage_error: 21.1253 - cosine_proximity: -1.0000e+00\n",
      "Epoch 3/100\n",
      " - 8s - loss: 2823231199.4677 - mean_squared_error: 2823231199.4677 - mean_absolute_error: 22777.0533 - mean_absolute_percentage_error: 19.9312 - cosine_proximity: -1.0000e+00\n",
      "Epoch 4/100\n",
      " - 8s - loss: 2784815414.0827 - mean_squared_error: 2784815414.0827 - mean_absolute_error: 22430.3277 - mean_absolute_percentage_error: 19.5988 - cosine_proximity: -1.0000e+00\n",
      "Epoch 5/100\n",
      " - 8s - loss: 2749757362.2366 - mean_squared_error: 2749757362.2366 - mean_absolute_error: 22195.9725 - mean_absolute_percentage_error: 19.3488 - cosine_proximity: -1.0000e+00\n",
      "Epoch 6/100\n",
      " - 8s - loss: 2740703108.7247 - mean_squared_error: 2740703108.7247 - mean_absolute_error: 22051.1320 - mean_absolute_percentage_error: 19.2367 - cosine_proximity: -1.0000e+00\n",
      "Epoch 7/100\n",
      " - 11s - loss: 2722876152.7575 - mean_squared_error: 2722876152.7575 - mean_absolute_error: 21857.5314 - mean_absolute_percentage_error: 19.0777 - cosine_proximity: -1.0000e+00\n",
      "Epoch 8/100\n",
      " - 12s - loss: 2703025334.7803 - mean_squared_error: 2703025334.7803 - mean_absolute_error: 21776.6890 - mean_absolute_percentage_error: 18.9644 - cosine_proximity: -1.0000e+00\n",
      "Epoch 9/100\n",
      " - 10s - loss: 2693426379.6912 - mean_squared_error: 2693426379.6912 - mean_absolute_error: 21688.8594 - mean_absolute_percentage_error: 18.8653 - cosine_proximity: -1.0000e+00\n",
      "Epoch 10/100\n",
      " - 8s - loss: 2680189112.4939 - mean_squared_error: 2680189112.4939 - mean_absolute_error: 21622.2497 - mean_absolute_percentage_error: 18.8304 - cosine_proximity: -1.0000e+00\n",
      "Epoch 11/100\n",
      " - 8s - loss: 2664224576.0859 - mean_squared_error: 2664224576.0859 - mean_absolute_error: 21552.3449 - mean_absolute_percentage_error: 18.7690 - cosine_proximity: -1.0000e+00\n",
      "Epoch 12/100\n",
      " - 10s - loss: 2653317121.7170 - mean_squared_error: 2653317121.7170 - mean_absolute_error: 21467.2840 - mean_absolute_percentage_error: 18.6810 - cosine_proximity: -1.0000e+00\n",
      "Epoch 13/100\n",
      " - 11s - loss: 2639459363.6223 - mean_squared_error: 2639459363.6223 - mean_absolute_error: 21418.6751 - mean_absolute_percentage_error: 18.6786 - cosine_proximity: -1.0000e+00\n",
      "Epoch 14/100\n",
      " - 11s - loss: 2637833766.7195 - mean_squared_error: 2637833766.7195 - mean_absolute_error: 21353.6410 - mean_absolute_percentage_error: 18.6430 - cosine_proximity: -1.0000e+00\n",
      "Epoch 15/100\n",
      " - 11s - loss: 2629654599.4932 - mean_squared_error: 2629654599.4932 - mean_absolute_error: 21343.4565 - mean_absolute_percentage_error: 18.6439 - cosine_proximity: -1.0000e+00\n",
      "Epoch 16/100\n",
      " - 9s - loss: 2614664855.2996 - mean_squared_error: 2614664855.2996 - mean_absolute_error: 21311.3370 - mean_absolute_percentage_error: 18.6461 - cosine_proximity: -1.0000e+00\n",
      "Epoch 17/100\n",
      " - 9s - loss: 2614843917.4486 - mean_squared_error: 2614843917.4486 - mean_absolute_error: 21211.8858 - mean_absolute_percentage_error: 18.5506 - cosine_proximity: -1.0000e+00\n",
      "Epoch 18/100\n",
      " - 10s - loss: 2605523042.7423 - mean_squared_error: 2605523042.7423 - mean_absolute_error: 21129.3190 - mean_absolute_percentage_error: 18.4615 - cosine_proximity: -1.0000e+00\n",
      "Epoch 19/100\n",
      " - 11s - loss: 2596365133.3390 - mean_squared_error: 2596365133.3390 - mean_absolute_error: 21107.9581 - mean_absolute_percentage_error: 18.4744 - cosine_proximity: -1.0000e+00\n",
      "Epoch 20/100\n",
      " - 9s - loss: 2590444904.4147 - mean_squared_error: 2590444904.4147 - mean_absolute_error: 21033.6823 - mean_absolute_percentage_error: 18.4095 - cosine_proximity: -1.0000e+00\n",
      "Epoch 21/100\n",
      " - 8s - loss: 2574818531.9560 - mean_squared_error: 2574818531.9560 - mean_absolute_error: 20962.5854 - mean_absolute_percentage_error: 18.3237 - cosine_proximity: -1.0000e+00\n",
      "Epoch 22/100\n",
      " - 9s - loss: 2565954645.2506 - mean_squared_error: 2565954645.2506 - mean_absolute_error: 20905.3561 - mean_absolute_percentage_error: 18.3192 - cosine_proximity: -1.0000e+00\n",
      "Epoch 23/100\n",
      " - 12s - loss: 2556427394.1756 - mean_squared_error: 2556427394.1756 - mean_absolute_error: 20803.5867 - mean_absolute_percentage_error: 18.2192 - cosine_proximity: -1.0000e+00\n",
      "Epoch 24/100\n",
      " - 9s - loss: 2537415373.2733 - mean_squared_error: 2537415373.2733 - mean_absolute_error: 20753.4497 - mean_absolute_percentage_error: 18.1991 - cosine_proximity: -1.0000e+00\n",
      "Epoch 25/100\n",
      " - 9s - loss: 2523163309.5861 - mean_squared_error: 2523163309.5861 - mean_absolute_error: 20689.9943 - mean_absolute_percentage_error: 18.1397 - cosine_proximity: -1.0000e+00\n",
      "Epoch 26/100\n",
      " - 10s - loss: 2518293002.5289 - mean_squared_error: 2518293002.5289 - mean_absolute_error: 20610.4443 - mean_absolute_percentage_error: 18.0452 - cosine_proximity: -1.0000e+00\n",
      "Epoch 27/100\n",
      " - 9s - loss: 2508616908.8934 - mean_squared_error: 2508616908.8934 - mean_absolute_error: 20543.0418 - mean_absolute_percentage_error: 18.0276 - cosine_proximity: -1.0000e+00\n",
      "Epoch 28/100\n",
      " - 9s - loss: 2500410505.8833 - mean_squared_error: 2500410505.8833 - mean_absolute_error: 20471.8721 - mean_absolute_percentage_error: 17.9625 - cosine_proximity: -1.0000e+00\n",
      "Epoch 29/100\n",
      " - 9s - loss: 2488948186.9817 - mean_squared_error: 2488948186.9817 - mean_absolute_error: 20331.0099 - mean_absolute_percentage_error: 17.8749 - cosine_proximity: -1.0000e+00\n",
      "Epoch 30/100\n",
      " - 8s - loss: 2472223366.5801 - mean_squared_error: 2472223366.5801 - mean_absolute_error: 20278.9858 - mean_absolute_percentage_error: 17.7545 - cosine_proximity: -1.0000e+00\n",
      "Epoch 31/100\n",
      " - 9s - loss: 2459301816.3792 - mean_squared_error: 2459301816.3792 - mean_absolute_error: 20288.8871 - mean_absolute_percentage_error: 17.8570 - cosine_proximity: -1.0000e+00\n",
      "Epoch 32/100\n",
      " - 8s - loss: 2450352293.2558 - mean_squared_error: 2450352293.2558 - mean_absolute_error: 20193.0534 - mean_absolute_percentage_error: 17.6998 - cosine_proximity: -1.0000e+00\n",
      "Epoch 33/100\n",
      " - 9s - loss: 2443453914.9210 - mean_squared_error: 2443453914.9210 - mean_absolute_error: 20093.5690 - mean_absolute_percentage_error: 17.6554 - cosine_proximity: -1.0000e+00\n",
      "Epoch 34/100\n",
      " - 8s - loss: 2426881492.1280 - mean_squared_error: 2426881492.1280 - mean_absolute_error: 20045.0842 - mean_absolute_percentage_error: 17.6777 - cosine_proximity: -1.0000e+00\n",
      "Epoch 35/100\n",
      " - 8s - loss: 2419619743.6869 - mean_squared_error: 2419619743.6869 - mean_absolute_error: 19983.0510 - mean_absolute_percentage_error: 17.5895 - cosine_proximity: -1.0000e+00\n",
      "Epoch 36/100\n",
      " - 9s - loss: 2415301466.3229 - mean_squared_error: 2415301466.3229 - mean_absolute_error: 19889.2697 - mean_absolute_percentage_error: 17.5155 - cosine_proximity: -1.0000e+00\n",
      "Epoch 37/100\n",
      " - 10s - loss: 2390032378.0979 - mean_squared_error: 2390032378.0979 - mean_absolute_error: 19905.3490 - mean_absolute_percentage_error: 17.5482 - cosine_proximity: -1.0000e+00\n",
      "Epoch 38/100\n",
      " - 14s - loss: 2376950772.2946 - mean_squared_error: 2376950772.2946 - mean_absolute_error: 19835.9862 - mean_absolute_percentage_error: 17.4680 - cosine_proximity: -1.0000e+00\n",
      "Epoch 39/100\n",
      " - 9s - loss: 2370686104.5492 - mean_squared_error: 2370686104.5492 - mean_absolute_error: 19710.1345 - mean_absolute_percentage_error: 17.3611 - cosine_proximity: -1.0000e+00\n",
      "Epoch 40/100\n",
      " - 9s - loss: 2349385735.2076 - mean_squared_error: 2349385735.2076 - mean_absolute_error: 19676.6212 - mean_absolute_percentage_error: 17.2540 - cosine_proximity: -1.0000e+00\n",
      "Epoch 41/100\n",
      " - 9s - loss: 2344618556.4674 - mean_squared_error: 2344618556.4674 - mean_absolute_error: 19611.3198 - mean_absolute_percentage_error: 17.2674 - cosine_proximity: -1.0000e+00\n",
      "Epoch 42/100\n",
      " - 9s - loss: 2334296835.5048 - mean_squared_error: 2334296835.5048 - mean_absolute_error: 19581.4583 - mean_absolute_percentage_error: 17.2661 - cosine_proximity: -1.0000e+00\n",
      "Epoch 43/100\n",
      " - 8s - loss: 2320314481.9685 - mean_squared_error: 2320314481.9685 - mean_absolute_error: 19545.9607 - mean_absolute_percentage_error: 17.1777 - cosine_proximity: -1.0000e+00\n",
      "Epoch 44/100\n",
      " - 9s - loss: 2289767718.4943 - mean_squared_error: 2289767718.4943 - mean_absolute_error: 19496.0624 - mean_absolute_percentage_error: 17.2372 - cosine_proximity: -1.0000e+00\n"
     ]
    },
    {
     "name": "stdout",
     "output_type": "stream",
     "text": [
      "Epoch 45/100\n",
      " - 9s - loss: 2303031266.5099 - mean_squared_error: 2303031266.5099 - mean_absolute_error: 19427.1291 - mean_absolute_percentage_error: 17.1683 - cosine_proximity: -1.0000e+00\n",
      "Epoch 46/100\n",
      " - 8s - loss: 2304412501.0784 - mean_squared_error: 2304412501.0784 - mean_absolute_error: 19439.6587 - mean_absolute_percentage_error: 17.1959 - cosine_proximity: -1.0000e+00\n",
      "Epoch 47/100\n",
      " - 8s - loss: 2284075469.4335 - mean_squared_error: 2284075469.4335 - mean_absolute_error: 19431.3109 - mean_absolute_percentage_error: 17.1198 - cosine_proximity: -1.0000e+00\n",
      "Epoch 48/100\n",
      " - 9s - loss: 2283669851.7171 - mean_squared_error: 2283669851.7171 - mean_absolute_error: 19239.5808 - mean_absolute_percentage_error: 17.0034 - cosine_proximity: -1.0000e+00\n",
      "Epoch 49/100\n",
      " - 9s - loss: 2279345191.5071 - mean_squared_error: 2279345191.5071 - mean_absolute_error: 19260.4260 - mean_absolute_percentage_error: 17.0106 - cosine_proximity: -1.0000e+00\n",
      "Epoch 50/100\n",
      " - 9s - loss: 2253889880.8808 - mean_squared_error: 2253889880.8808 - mean_absolute_error: 19230.4028 - mean_absolute_percentage_error: 17.0052 - cosine_proximity: -1.0000e+00\n",
      "Epoch 51/100\n",
      " - 9s - loss: 2246590428.0968 - mean_squared_error: 2246590428.0968 - mean_absolute_error: 19223.1465 - mean_absolute_percentage_error: 16.9566 - cosine_proximity: -1.0000e+00\n",
      "Epoch 52/100\n",
      " - 10s - loss: 2243756684.4290 - mean_squared_error: 2243756684.4290 - mean_absolute_error: 19217.6786 - mean_absolute_percentage_error: 17.0031 - cosine_proximity: -1.0000e+00\n",
      "Epoch 53/100\n",
      " - 8s - loss: 2225199915.8408 - mean_squared_error: 2225199915.8408 - mean_absolute_error: 19147.9996 - mean_absolute_percentage_error: 16.9028 - cosine_proximity: -1.0000e+00\n",
      "Epoch 54/100\n",
      " - 8s - loss: 2211920243.1058 - mean_squared_error: 2211920243.1058 - mean_absolute_error: 19109.5729 - mean_absolute_percentage_error: 16.9192 - cosine_proximity: -1.0000e+00\n",
      "Epoch 55/100\n",
      " - 8s - loss: 2212253828.7502 - mean_squared_error: 2212253828.7502 - mean_absolute_error: 19022.1368 - mean_absolute_percentage_error: 16.8183 - cosine_proximity: -1.0000e+00\n",
      "Epoch 56/100\n",
      " - 8s - loss: 2201525017.5234 - mean_squared_error: 2201525017.5234 - mean_absolute_error: 19004.6193 - mean_absolute_percentage_error: 16.7986 - cosine_proximity: -1.0000e+00\n",
      "Epoch 57/100\n",
      " - 8s - loss: 2202228790.6703 - mean_squared_error: 2202228790.6703 - mean_absolute_error: 19009.8568 - mean_absolute_percentage_error: 16.7985 - cosine_proximity: -1.0000e+00\n",
      "Epoch 58/100\n",
      " - 8s - loss: 2193944425.6960 - mean_squared_error: 2193944425.6960 - mean_absolute_error: 19049.1782 - mean_absolute_percentage_error: 16.8618 - cosine_proximity: -1.0000e+00\n",
      "Epoch 59/100\n",
      " - 7s - loss: 2187909452.2666 - mean_squared_error: 2187909452.2666 - mean_absolute_error: 18994.7777 - mean_absolute_percentage_error: 16.8063 - cosine_proximity: -1.0000e+00\n",
      "Epoch 60/100\n",
      " - 7s - loss: 2173628140.3524 - mean_squared_error: 2173628140.3524 - mean_absolute_error: 18869.3319 - mean_absolute_percentage_error: 16.7364 - cosine_proximity: -1.0000e+00\n",
      "Epoch 61/100\n",
      " - 8s - loss: 2181546834.4916 - mean_squared_error: 2181546834.4916 - mean_absolute_error: 18895.3434 - mean_absolute_percentage_error: 16.7540 - cosine_proximity: -1.0000e+00\n",
      "Epoch 62/100\n",
      " - 8s - loss: 2174060708.0564 - mean_squared_error: 2174060708.0564 - mean_absolute_error: 18935.6748 - mean_absolute_percentage_error: 16.8254 - cosine_proximity: -1.0000e+00\n",
      "Epoch 63/100\n",
      " - 8s - loss: 2154592814.9038 - mean_squared_error: 2154592814.9038 - mean_absolute_error: 18898.4951 - mean_absolute_percentage_error: 16.8171 - cosine_proximity: -1.0000e+00\n",
      "Epoch 64/100\n",
      " - 8s - loss: 2149414499.2834 - mean_squared_error: 2149414499.2834 - mean_absolute_error: 18826.9120 - mean_absolute_percentage_error: 16.7819 - cosine_proximity: -1.0000e+00\n",
      "Epoch 65/100\n",
      " - 7s - loss: 2147171383.5277 - mean_squared_error: 2147171383.5277 - mean_absolute_error: 18790.7838 - mean_absolute_percentage_error: 16.6929 - cosine_proximity: -1.0000e+00\n",
      "Epoch 66/100\n",
      " - 7s - loss: 2133946251.6559 - mean_squared_error: 2133946251.6559 - mean_absolute_error: 18852.5631 - mean_absolute_percentage_error: 16.7209 - cosine_proximity: -1.0000e+00\n",
      "Epoch 67/100\n",
      " - 7s - loss: 2137835523.6134 - mean_squared_error: 2137835523.6134 - mean_absolute_error: 18777.2517 - mean_absolute_percentage_error: 16.6589 - cosine_proximity: -1.0000e+00\n",
      "Epoch 68/100\n",
      " - 7s - loss: 2140213312.2201 - mean_squared_error: 2140213312.2201 - mean_absolute_error: 18844.8164 - mean_absolute_percentage_error: 16.7442 - cosine_proximity: -1.0000e+00\n",
      "Epoch 69/100\n",
      " - 8s - loss: 2132290099.8691 - mean_squared_error: 2132290099.8691 - mean_absolute_error: 18854.1984 - mean_absolute_percentage_error: 16.7982 - cosine_proximity: -1.0000e+00\n",
      "Epoch 70/100\n",
      " - 10s - loss: 2128554875.7676 - mean_squared_error: 2128554875.7676 - mean_absolute_error: 18850.9751 - mean_absolute_percentage_error: 16.7541 - cosine_proximity: -1.0000e+00\n",
      "Epoch 71/100\n",
      " - 11s - loss: 2122358896.6224 - mean_squared_error: 2122358896.6224 - mean_absolute_error: 18743.8327 - mean_absolute_percentage_error: 16.7038 - cosine_proximity: -1.0000e+00\n",
      "Epoch 72/100\n",
      " - 10s - loss: 2119006821.0162 - mean_squared_error: 2119006821.0162 - mean_absolute_error: 18741.1206 - mean_absolute_percentage_error: 16.6732 - cosine_proximity: -1.0000e+00\n",
      "Epoch 73/100\n",
      " - 9s - loss: 2106446316.4033 - mean_squared_error: 2106446316.4033 - mean_absolute_error: 18721.6834 - mean_absolute_percentage_error: 16.7032 - cosine_proximity: -1.0000e+00\n",
      "Epoch 74/100\n",
      " - 10s - loss: 2110232754.4753 - mean_squared_error: 2110232754.4753 - mean_absolute_error: 18783.3117 - mean_absolute_percentage_error: 16.7430 - cosine_proximity: -1.0000e+00\n",
      "Epoch 75/100\n",
      " - 10s - loss: 2099596842.1458 - mean_squared_error: 2099596842.1458 - mean_absolute_error: 18665.5799 - mean_absolute_percentage_error: 16.6837 - cosine_proximity: -1.0000e+00\n",
      "Epoch 76/100\n",
      " - 9s - loss: 2098047036.2495 - mean_squared_error: 2098047036.2495 - mean_absolute_error: 18683.9494 - mean_absolute_percentage_error: 16.7124 - cosine_proximity: -1.0000e+00\n",
      "Epoch 77/100\n",
      " - 10s - loss: 2095837382.2514 - mean_squared_error: 2095837382.2514 - mean_absolute_error: 18741.5221 - mean_absolute_percentage_error: 16.7616 - cosine_proximity: -1.0000e+00\n",
      "Epoch 78/100\n",
      " - 9s - loss: 2083326403.1560 - mean_squared_error: 2083326403.1560 - mean_absolute_error: 18780.6149 - mean_absolute_percentage_error: 16.7808 - cosine_proximity: -1.0000e+00\n",
      "Epoch 79/100\n",
      " - 9s - loss: 2090232340.2309 - mean_squared_error: 2090232340.2309 - mean_absolute_error: 18646.1428 - mean_absolute_percentage_error: 16.6608 - cosine_proximity: -1.0000e+00\n",
      "Epoch 80/100\n",
      " - 11s - loss: 2075248112.8329 - mean_squared_error: 2075248112.8329 - mean_absolute_error: 18560.9391 - mean_absolute_percentage_error: 16.5461 - cosine_proximity: -1.0000e+00\n",
      "Epoch 81/100\n",
      " - 12s - loss: 2073228308.6907 - mean_squared_error: 2073228308.6907 - mean_absolute_error: 18645.1487 - mean_absolute_percentage_error: 16.6028 - cosine_proximity: -1.0000e+00\n",
      "Epoch 82/100\n",
      " - 16s - loss: 2069823400.2846 - mean_squared_error: 2069823400.2846 - mean_absolute_error: 18687.6680 - mean_absolute_percentage_error: 16.7312 - cosine_proximity: -1.0000e+00\n",
      "Epoch 83/100\n",
      " - 14s - loss: 2070171645.4652 - mean_squared_error: 2070171645.4652 - mean_absolute_error: 18548.3187 - mean_absolute_percentage_error: 16.5828 - cosine_proximity: -1.0000e+00\n",
      "Epoch 84/100\n",
      " - 9s - loss: 2057651490.9669 - mean_squared_error: 2057651490.9669 - mean_absolute_error: 18585.8168 - mean_absolute_percentage_error: 16.5401 - cosine_proximity: -1.0000e+00\n",
      "Epoch 85/100\n",
      " - 8s - loss: 2058611523.3804 - mean_squared_error: 2058611523.3804 - mean_absolute_error: 18569.3706 - mean_absolute_percentage_error: 16.6584 - cosine_proximity: -1.0000e+00\n",
      "Epoch 86/100\n",
      " - 8s - loss: 2047283450.4218 - mean_squared_error: 2047283450.4218 - mean_absolute_error: 18496.0310 - mean_absolute_percentage_error: 16.4771 - cosine_proximity: -1.0000e+00\n",
      "Epoch 87/100\n",
      " - 8s - loss: 2045560156.3421 - mean_squared_error: 2045560156.3421 - mean_absolute_error: 18462.2941 - mean_absolute_percentage_error: 16.5490 - cosine_proximity: -1.0000e+00\n",
      "Epoch 88/100\n",
      " - 8s - loss: 2050624509.4216 - mean_squared_error: 2050624509.4216 - mean_absolute_error: 18620.7411 - mean_absolute_percentage_error: 16.6795 - cosine_proximity: -1.0000e+00\n"
     ]
    },
    {
     "name": "stdout",
     "output_type": "stream",
     "text": [
      "Epoch 89/100\n",
      " - 8s - loss: 2047832833.8780 - mean_squared_error: 2047832833.8780 - mean_absolute_error: 18534.4878 - mean_absolute_percentage_error: 16.6501 - cosine_proximity: -1.0000e+00\n",
      "Epoch 90/100\n",
      " - 8s - loss: 2042380893.5470 - mean_squared_error: 2042380893.5470 - mean_absolute_error: 18608.7445 - mean_absolute_percentage_error: 16.7040 - cosine_proximity: -1.0000e+00\n",
      "Epoch 91/100\n",
      " - 9s - loss: 2050724752.8125 - mean_squared_error: 2050724752.8125 - mean_absolute_error: 18629.9177 - mean_absolute_percentage_error: 16.7622 - cosine_proximity: -1.0000e+00\n",
      "Epoch 92/100\n",
      " - 8s - loss: 2032963909.1629 - mean_squared_error: 2032963909.1629 - mean_absolute_error: 18568.8855 - mean_absolute_percentage_error: 16.7125 - cosine_proximity: -1.0000e+00\n",
      "Epoch 93/100\n",
      " - 8s - loss: 2034600974.2397 - mean_squared_error: 2034600974.2397 - mean_absolute_error: 18547.4673 - mean_absolute_percentage_error: 16.6698 - cosine_proximity: -1.0000e+00\n",
      "Epoch 94/100\n",
      " - 8s - loss: 2019985013.1992 - mean_squared_error: 2019985013.1992 - mean_absolute_error: 18547.1297 - mean_absolute_percentage_error: 16.6572 - cosine_proximity: -1.0000e+00\n",
      "Epoch 95/100\n",
      " - 8s - loss: 2034740217.9391 - mean_squared_error: 2034740217.9391 - mean_absolute_error: 18615.5881 - mean_absolute_percentage_error: 16.7402 - cosine_proximity: -1.0000e+00\n",
      "Epoch 96/100\n",
      " - 8s - loss: 2028354403.2278 - mean_squared_error: 2028354403.2278 - mean_absolute_error: 18591.9794 - mean_absolute_percentage_error: 16.8130 - cosine_proximity: -1.0000e+00\n",
      "Epoch 97/100\n",
      " - 8s - loss: 2026960914.5685 - mean_squared_error: 2026960914.5685 - mean_absolute_error: 18725.6566 - mean_absolute_percentage_error: 16.9234 - cosine_proximity: -1.0000e+00\n",
      "Epoch 98/100\n",
      " - 7s - loss: 2040199478.3297 - mean_squared_error: 2040199478.3297 - mean_absolute_error: 18600.7851 - mean_absolute_percentage_error: 16.7987 - cosine_proximity: -1.0000e+00\n",
      "Epoch 99/100\n",
      " - 7s - loss: 2027048080.9107 - mean_squared_error: 2027048080.9107 - mean_absolute_error: 18753.7434 - mean_absolute_percentage_error: 16.9073 - cosine_proximity: -1.0000e+00\n",
      "Epoch 100/100\n",
      " - 9s - loss: 2018655289.7516 - mean_squared_error: 2018655289.7516 - mean_absolute_error: 18606.1929 - mean_absolute_percentage_error: 16.8258 - cosine_proximity: -1.0000e+00\n"
     ]
    },
    {
     "data": {
      "text/plain": [
       "<keras.callbacks.History at 0x1f6337824a8>"
      ]
     },
     "execution_count": 47,
     "metadata": {},
     "output_type": "execute_result"
    }
   ],
   "source": [
    "model.fit(x=X_train,y=y_train,epochs=100,verbose=2,batch_size=10)\n",
    "#model.fit(satesto_X_v,satesto_Y_v,epochs=20,verbose=2,batch_size=30)"
   ]
  },
  {
   "cell_type": "markdown",
   "metadata": {},
   "source": [
    "## Evaluate"
   ]
  },
  {
   "cell_type": "code",
   "execution_count": 48,
   "metadata": {},
   "outputs": [
    {
     "name": "stdout",
     "output_type": "stream",
     "text": [
      "3797/3797 [==============================] - 0s 80us/step\n"
     ]
    }
   ],
   "source": [
    "results = model.evaluate(X_test,y_test)"
   ]
  },
  {
   "cell_type": "code",
   "execution_count": 49,
   "metadata": {},
   "outputs": [
    {
     "data": {
      "text/plain": [
       "[2135087146.6273375,\n",
       " 2135087146.6273375,\n",
       " 21699.59906412546,\n",
       " 18.955640154887035,\n",
       " -0.9999999994976696]"
      ]
     },
     "execution_count": 49,
     "metadata": {},
     "output_type": "execute_result"
    }
   ],
   "source": [
    "results"
   ]
  },
  {
   "cell_type": "markdown",
   "metadata": {},
   "source": [
    "## Save Model"
   ]
  },
  {
   "cell_type": "code",
   "execution_count": 408,
   "metadata": {},
   "outputs": [],
   "source": [
    "model.save('trained_prediction.h5')\n",
    "model.save_weights('trained_prediction_weights.h5')"
   ]
  },
  {
   "cell_type": "code",
   "execution_count": null,
   "metadata": {},
   "outputs": [],
   "source": []
  },
  {
   "cell_type": "markdown",
   "metadata": {},
   "source": [
    "## Testing"
   ]
  },
  {
   "cell_type": "code",
   "execution_count": 44,
   "metadata": {},
   "outputs": [
    {
     "data": {
      "text/plain": [
       "array([[62642.01]], dtype=float32)"
      ]
     },
     "execution_count": 44,
     "metadata": {},
     "output_type": "execute_result"
    }
   ],
   "source": [
    "#Xnew = numpy.array([[6]])\n",
    "# make a prediction\n",
    "ynew = model.predict(gavtestot)\n",
    "ynew"
   ]
  }
 ],
 "metadata": {
  "kernelspec": {
   "display_name": "Python 3",
   "language": "python",
   "name": "python3"
  },
  "language_info": {
   "codemirror_mode": {
    "name": "ipython",
    "version": 3
   },
   "file_extension": ".py",
   "mimetype": "text/x-python",
   "name": "python",
   "nbconvert_exporter": "python",
   "pygments_lexer": "ipython3",
   "version": "3.6.4"
  }
 },
 "nbformat": 4,
 "nbformat_minor": 2
}
